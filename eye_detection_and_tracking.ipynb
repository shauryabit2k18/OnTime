{
 "cells": [
  {
   "cell_type": "code",
   "execution_count": 6,
   "metadata": {},
   "outputs": [],
   "source": [
    "import cv2\n",
    "import numpy as np\n",
    "import dlib\n",
    "\n",
    "cap = cv2.VideoCapture(0)\n",
    "\n",
    "detector = dlib.get_frontal_face_detector()\n",
    "predictor = dlib.shape_predictor(\"shape_predictor_68_face_landmarks.dat\")\n",
    "\n",
    "while True:\n",
    "    _, frame = cap.read()\n",
    "    gray = cv2.cvtColor(frame , cv2.COLOR_BGR2GRAY)\n",
    "    \n",
    "    faces = detector(gray)\n",
    "    for face in faces:\n",
    "        #print (face)\n",
    "        #x , y = face.left() , face.top()\n",
    "        #x1 , y1 = face.right() , face.bottom()\n",
    "        #cv2.rectangle(frame , (x , y) , (x1 , y1) , (0 , 255 , 0) , 2)\n",
    "        landmarks = predictor(gray , face)\n",
    "        #x = landmarks.part(36).x\n",
    "        #y = landmarks.part(36).y\n",
    "        #cv2.circle(frame , (x , y) , 3 , (0 , 0 , 255) , 2)\n",
    "        left_point = (landmarks.part(36).x , landmarks.part(36).y)\n",
    "        right_point = (landmarks.part(39).x , landmarks.part(39).y)\n",
    "        \n",
    "        mid_point_x = int((landmarks.part(36).x + landmarks.part(39).x)/2)\n",
    "        mid_point_y = int((landmarks.part(36).y + landmarks.part(39).y)/2)\n",
    "        \n",
    "        hor_line = cv2.line(frame , left_point , right_point , (0 , 255 , 0) , 1)\n",
    "        \n",
    "        top_point = (int((landmarks.part(37).x + landmarks.part(38).x)/2)  , int((landmarks.part(37).y + landmarks.part(38).y)/2))\n",
    "        bottom_point = (int((landmarks.part(41).x + landmarks.part(40).x)/2)  , int((landmarks.part(41).y + landmarks.part(40).y)/2))\n",
    "        \n",
    "        ver_line = cv2.line(frame , top_point , bottom_point , (0 , 255 , 0) , 1)\n",
    "        \n",
    "        #x = int((landmarks.part(36).x + landmarks.part(39).x)/2)\n",
    "        #y = int((((landmarks.part(37).y + landmarks.part(38).y)/2) + ((landmarks.part(37).y + landmarks.part(38).y)/2))/2)\n",
    "        \n",
    "        cv2.circle(frame , (mid_point_x , mid_point_y) , 1 , (255 , 0 , 0) , 1)\n",
    "    \n",
    "    cv2.imshow(\"Frame\" , frame)\n",
    "    \n",
    "    key = cv2.waitKey(1)\n",
    "    if key == 27:\n",
    "        break\n",
    "        \n",
    "cap.release()\n",
    "cv2.destroyAllWindows()"
   ]
  },
  {
   "cell_type": "code",
   "execution_count": null,
   "metadata": {},
   "outputs": [],
   "source": []
  },
  {
   "cell_type": "code",
   "execution_count": null,
   "metadata": {},
   "outputs": [],
   "source": []
  }
 ],
 "metadata": {
  "kernelspec": {
   "display_name": "Python 3",
   "language": "python",
   "name": "python3"
  },
  "language_info": {
   "codemirror_mode": {
    "name": "ipython",
    "version": 3
   },
   "file_extension": ".py",
   "mimetype": "text/x-python",
   "name": "python",
   "nbconvert_exporter": "python",
   "pygments_lexer": "ipython3",
   "version": "3.6.6"
  }
 },
 "nbformat": 4,
 "nbformat_minor": 2
}
